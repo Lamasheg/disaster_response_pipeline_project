{
 "cells": [
  {
   "cell_type": "markdown",
   "metadata": {},
   "source": [
    "# ML Pipeline Preparation\n",
    "Follow the instructions below to help you create your ML pipeline.\n",
    "### 1. Import libraries and load data from database.\n",
    "- Import Python libraries\n",
    "- Load dataset from database with [`read_sql_table`](https://pandas.pydata.org/pandas-docs/stable/generated/pandas.read_sql_table.html)\n",
    "- Define feature and target variables X and Y"
   ]
  },
  {
   "cell_type": "code",
   "execution_count": 19,
   "metadata": {},
   "outputs": [
    {
     "name": "stdout",
     "output_type": "stream",
     "text": [
      "[nltk_data] Downloading package punkt to /root/nltk_data...\n",
      "[nltk_data]   Package punkt is already up-to-date!\n",
      "[nltk_data] Downloading package wordnet to /root/nltk_data...\n",
      "[nltk_data]   Package wordnet is already up-to-date!\n",
      "[nltk_data] Downloading package stopwords to /root/nltk_data...\n",
      "[nltk_data]   Package stopwords is already up-to-date!\n",
      "[nltk_data] Downloading package averaged_perceptron_tagger to\n",
      "[nltk_data]     /root/nltk_data...\n",
      "[nltk_data]   Package averaged_perceptron_tagger is already up-to-\n",
      "[nltk_data]       date!\n"
     ]
    },
    {
     "data": {
      "text/plain": [
       "True"
      ]
     },
     "execution_count": 19,
     "metadata": {},
     "output_type": "execute_result"
    }
   ],
   "source": [
    "nltk.download(['punkt', 'wordnet','stopwords','averaged_perceptron_tagger'])"
   ]
  },
  {
   "cell_type": "code",
   "execution_count": 34,
   "metadata": {},
   "outputs": [],
   "source": [
    "# import libraries\n",
    "import re\n",
    "import nltk\n",
    "import pandas as pd\n",
    "from sqlalchemy import create_engine\n",
    "from nltk.tokenize import word_tokenize\n",
    "from nltk.stem import WordNetLemmatizer\n",
    "from nltk.corpus import stopwords\n",
    "from sklearn.feature_extraction.text import CountVectorizer, TfidfTransformer\n",
    "from sklearn.pipeline import Pipeline, FeatureUnion\n",
    "from sklearn.multioutput import MultiOutputClassifier\n",
    "from sklearn.linear_model import LogisticRegression\n",
    "from sklearn.model_selection import train_test_split\n",
    "from sklearn.metrics import classification_report\n",
    "from sklearn.ensemble import AdaBoostClassifier\n",
    "from sklearn.model_selection import GridSearchCV\n",
    "from sklearn.base import BaseEstimator, TransformerMixin\n",
    "from nltk import pos_tag, ne_chunk\n",
    "from nltk.tokenize import sent_tokenize\n",
    "from gensim.models import Word2Vec\n",
    "from sklearn.ensemble import GradientBoostingClassifier\n",
    "import pickle"
   ]
  },
  {
   "cell_type": "code",
   "execution_count": 20,
   "metadata": {},
   "outputs": [],
   "source": [
    "# load data from database\n",
    "engine = create_engine('sqlite:///DisasterResponse.db')\n",
    "df = pd.read_sql_table('DisasterResponseTable',engine)"
   ]
  },
  {
   "cell_type": "code",
   "execution_count": 21,
   "metadata": {},
   "outputs": [
    {
     "data": {
      "text/html": [
       "<div>\n",
       "<style scoped>\n",
       "    .dataframe tbody tr th:only-of-type {\n",
       "        vertical-align: middle;\n",
       "    }\n",
       "\n",
       "    .dataframe tbody tr th {\n",
       "        vertical-align: top;\n",
       "    }\n",
       "\n",
       "    .dataframe thead th {\n",
       "        text-align: right;\n",
       "    }\n",
       "</style>\n",
       "<table border=\"1\" class=\"dataframe\">\n",
       "  <thead>\n",
       "    <tr style=\"text-align: right;\">\n",
       "      <th></th>\n",
       "      <th>id</th>\n",
       "      <th>related</th>\n",
       "      <th>request</th>\n",
       "      <th>offer</th>\n",
       "      <th>aid_related</th>\n",
       "      <th>medical_help</th>\n",
       "      <th>medical_products</th>\n",
       "      <th>search_and_rescue</th>\n",
       "      <th>security</th>\n",
       "      <th>military</th>\n",
       "      <th>water</th>\n",
       "      <th>food</th>\n",
       "      <th>shelter</th>\n",
       "      <th>clothing</th>\n",
       "      <th>money</th>\n",
       "      <th>missing_people</th>\n",
       "      <th>refugees</th>\n",
       "      <th>death</th>\n",
       "      <th>other_aid</th>\n",
       "      <th>infrastructure_related</th>\n",
       "      <th>transport</th>\n",
       "      <th>buildings</th>\n",
       "      <th>electricity</th>\n",
       "      <th>tools</th>\n",
       "      <th>hospitals</th>\n",
       "      <th>shops</th>\n",
       "      <th>aid_centers</th>\n",
       "      <th>other_infrastructure</th>\n",
       "      <th>weather_related</th>\n",
       "      <th>floods</th>\n",
       "      <th>storm</th>\n",
       "      <th>fire</th>\n",
       "      <th>earthquake</th>\n",
       "      <th>cold</th>\n",
       "      <th>other_weather</th>\n",
       "      <th>direct_report</th>\n",
       "    </tr>\n",
       "  </thead>\n",
       "  <tbody>\n",
       "    <tr>\n",
       "      <th>count</th>\n",
       "      <td>26216.00000</td>\n",
       "      <td>26216.000000</td>\n",
       "      <td>26216.000000</td>\n",
       "      <td>26216.000000</td>\n",
       "      <td>26216.000000</td>\n",
       "      <td>26216.000000</td>\n",
       "      <td>26216.000000</td>\n",
       "      <td>26216.000000</td>\n",
       "      <td>26216.000000</td>\n",
       "      <td>26216.000000</td>\n",
       "      <td>26216.000000</td>\n",
       "      <td>26216.000000</td>\n",
       "      <td>26216.000000</td>\n",
       "      <td>26216.000000</td>\n",
       "      <td>26216.000000</td>\n",
       "      <td>26216.000000</td>\n",
       "      <td>26216.000000</td>\n",
       "      <td>26216.000000</td>\n",
       "      <td>26216.000000</td>\n",
       "      <td>26216.000000</td>\n",
       "      <td>26216.000000</td>\n",
       "      <td>26216.000000</td>\n",
       "      <td>26216.000000</td>\n",
       "      <td>26216.000000</td>\n",
       "      <td>26216.000000</td>\n",
       "      <td>26216.000000</td>\n",
       "      <td>26216.000000</td>\n",
       "      <td>26216.000000</td>\n",
       "      <td>26216.000000</td>\n",
       "      <td>26216.000000</td>\n",
       "      <td>26216.000000</td>\n",
       "      <td>26216.000000</td>\n",
       "      <td>26216.000000</td>\n",
       "      <td>26216.000000</td>\n",
       "      <td>26216.000000</td>\n",
       "      <td>26216.000000</td>\n",
       "    </tr>\n",
       "    <tr>\n",
       "      <th>mean</th>\n",
       "      <td>15224.82133</td>\n",
       "      <td>0.766478</td>\n",
       "      <td>0.170659</td>\n",
       "      <td>0.004501</td>\n",
       "      <td>0.414251</td>\n",
       "      <td>0.079493</td>\n",
       "      <td>0.050084</td>\n",
       "      <td>0.027617</td>\n",
       "      <td>0.017966</td>\n",
       "      <td>0.032804</td>\n",
       "      <td>0.063778</td>\n",
       "      <td>0.111497</td>\n",
       "      <td>0.088267</td>\n",
       "      <td>0.015449</td>\n",
       "      <td>0.023039</td>\n",
       "      <td>0.011367</td>\n",
       "      <td>0.033377</td>\n",
       "      <td>0.045545</td>\n",
       "      <td>0.131446</td>\n",
       "      <td>0.065037</td>\n",
       "      <td>0.045812</td>\n",
       "      <td>0.050847</td>\n",
       "      <td>0.020293</td>\n",
       "      <td>0.006065</td>\n",
       "      <td>0.010795</td>\n",
       "      <td>0.004577</td>\n",
       "      <td>0.011787</td>\n",
       "      <td>0.043904</td>\n",
       "      <td>0.278341</td>\n",
       "      <td>0.082202</td>\n",
       "      <td>0.093187</td>\n",
       "      <td>0.010757</td>\n",
       "      <td>0.093645</td>\n",
       "      <td>0.020217</td>\n",
       "      <td>0.052487</td>\n",
       "      <td>0.193584</td>\n",
       "    </tr>\n",
       "    <tr>\n",
       "      <th>std</th>\n",
       "      <td>8826.88914</td>\n",
       "      <td>0.423079</td>\n",
       "      <td>0.376218</td>\n",
       "      <td>0.066940</td>\n",
       "      <td>0.492602</td>\n",
       "      <td>0.270513</td>\n",
       "      <td>0.218122</td>\n",
       "      <td>0.163875</td>\n",
       "      <td>0.132831</td>\n",
       "      <td>0.178128</td>\n",
       "      <td>0.244361</td>\n",
       "      <td>0.314752</td>\n",
       "      <td>0.283688</td>\n",
       "      <td>0.123331</td>\n",
       "      <td>0.150031</td>\n",
       "      <td>0.106011</td>\n",
       "      <td>0.179621</td>\n",
       "      <td>0.208500</td>\n",
       "      <td>0.337894</td>\n",
       "      <td>0.246595</td>\n",
       "      <td>0.209081</td>\n",
       "      <td>0.219689</td>\n",
       "      <td>0.141003</td>\n",
       "      <td>0.077643</td>\n",
       "      <td>0.103338</td>\n",
       "      <td>0.067502</td>\n",
       "      <td>0.107927</td>\n",
       "      <td>0.204887</td>\n",
       "      <td>0.448191</td>\n",
       "      <td>0.274677</td>\n",
       "      <td>0.290700</td>\n",
       "      <td>0.103158</td>\n",
       "      <td>0.291340</td>\n",
       "      <td>0.140743</td>\n",
       "      <td>0.223011</td>\n",
       "      <td>0.395114</td>\n",
       "    </tr>\n",
       "    <tr>\n",
       "      <th>min</th>\n",
       "      <td>2.00000</td>\n",
       "      <td>0.000000</td>\n",
       "      <td>0.000000</td>\n",
       "      <td>0.000000</td>\n",
       "      <td>0.000000</td>\n",
       "      <td>0.000000</td>\n",
       "      <td>0.000000</td>\n",
       "      <td>0.000000</td>\n",
       "      <td>0.000000</td>\n",
       "      <td>0.000000</td>\n",
       "      <td>0.000000</td>\n",
       "      <td>0.000000</td>\n",
       "      <td>0.000000</td>\n",
       "      <td>0.000000</td>\n",
       "      <td>0.000000</td>\n",
       "      <td>0.000000</td>\n",
       "      <td>0.000000</td>\n",
       "      <td>0.000000</td>\n",
       "      <td>0.000000</td>\n",
       "      <td>0.000000</td>\n",
       "      <td>0.000000</td>\n",
       "      <td>0.000000</td>\n",
       "      <td>0.000000</td>\n",
       "      <td>0.000000</td>\n",
       "      <td>0.000000</td>\n",
       "      <td>0.000000</td>\n",
       "      <td>0.000000</td>\n",
       "      <td>0.000000</td>\n",
       "      <td>0.000000</td>\n",
       "      <td>0.000000</td>\n",
       "      <td>0.000000</td>\n",
       "      <td>0.000000</td>\n",
       "      <td>0.000000</td>\n",
       "      <td>0.000000</td>\n",
       "      <td>0.000000</td>\n",
       "      <td>0.000000</td>\n",
       "    </tr>\n",
       "    <tr>\n",
       "      <th>25%</th>\n",
       "      <td>7446.75000</td>\n",
       "      <td>1.000000</td>\n",
       "      <td>0.000000</td>\n",
       "      <td>0.000000</td>\n",
       "      <td>0.000000</td>\n",
       "      <td>0.000000</td>\n",
       "      <td>0.000000</td>\n",
       "      <td>0.000000</td>\n",
       "      <td>0.000000</td>\n",
       "      <td>0.000000</td>\n",
       "      <td>0.000000</td>\n",
       "      <td>0.000000</td>\n",
       "      <td>0.000000</td>\n",
       "      <td>0.000000</td>\n",
       "      <td>0.000000</td>\n",
       "      <td>0.000000</td>\n",
       "      <td>0.000000</td>\n",
       "      <td>0.000000</td>\n",
       "      <td>0.000000</td>\n",
       "      <td>0.000000</td>\n",
       "      <td>0.000000</td>\n",
       "      <td>0.000000</td>\n",
       "      <td>0.000000</td>\n",
       "      <td>0.000000</td>\n",
       "      <td>0.000000</td>\n",
       "      <td>0.000000</td>\n",
       "      <td>0.000000</td>\n",
       "      <td>0.000000</td>\n",
       "      <td>0.000000</td>\n",
       "      <td>0.000000</td>\n",
       "      <td>0.000000</td>\n",
       "      <td>0.000000</td>\n",
       "      <td>0.000000</td>\n",
       "      <td>0.000000</td>\n",
       "      <td>0.000000</td>\n",
       "      <td>0.000000</td>\n",
       "    </tr>\n",
       "    <tr>\n",
       "      <th>50%</th>\n",
       "      <td>15662.50000</td>\n",
       "      <td>1.000000</td>\n",
       "      <td>0.000000</td>\n",
       "      <td>0.000000</td>\n",
       "      <td>0.000000</td>\n",
       "      <td>0.000000</td>\n",
       "      <td>0.000000</td>\n",
       "      <td>0.000000</td>\n",
       "      <td>0.000000</td>\n",
       "      <td>0.000000</td>\n",
       "      <td>0.000000</td>\n",
       "      <td>0.000000</td>\n",
       "      <td>0.000000</td>\n",
       "      <td>0.000000</td>\n",
       "      <td>0.000000</td>\n",
       "      <td>0.000000</td>\n",
       "      <td>0.000000</td>\n",
       "      <td>0.000000</td>\n",
       "      <td>0.000000</td>\n",
       "      <td>0.000000</td>\n",
       "      <td>0.000000</td>\n",
       "      <td>0.000000</td>\n",
       "      <td>0.000000</td>\n",
       "      <td>0.000000</td>\n",
       "      <td>0.000000</td>\n",
       "      <td>0.000000</td>\n",
       "      <td>0.000000</td>\n",
       "      <td>0.000000</td>\n",
       "      <td>0.000000</td>\n",
       "      <td>0.000000</td>\n",
       "      <td>0.000000</td>\n",
       "      <td>0.000000</td>\n",
       "      <td>0.000000</td>\n",
       "      <td>0.000000</td>\n",
       "      <td>0.000000</td>\n",
       "      <td>0.000000</td>\n",
       "    </tr>\n",
       "    <tr>\n",
       "      <th>75%</th>\n",
       "      <td>22924.25000</td>\n",
       "      <td>1.000000</td>\n",
       "      <td>0.000000</td>\n",
       "      <td>0.000000</td>\n",
       "      <td>1.000000</td>\n",
       "      <td>0.000000</td>\n",
       "      <td>0.000000</td>\n",
       "      <td>0.000000</td>\n",
       "      <td>0.000000</td>\n",
       "      <td>0.000000</td>\n",
       "      <td>0.000000</td>\n",
       "      <td>0.000000</td>\n",
       "      <td>0.000000</td>\n",
       "      <td>0.000000</td>\n",
       "      <td>0.000000</td>\n",
       "      <td>0.000000</td>\n",
       "      <td>0.000000</td>\n",
       "      <td>0.000000</td>\n",
       "      <td>0.000000</td>\n",
       "      <td>0.000000</td>\n",
       "      <td>0.000000</td>\n",
       "      <td>0.000000</td>\n",
       "      <td>0.000000</td>\n",
       "      <td>0.000000</td>\n",
       "      <td>0.000000</td>\n",
       "      <td>0.000000</td>\n",
       "      <td>0.000000</td>\n",
       "      <td>0.000000</td>\n",
       "      <td>1.000000</td>\n",
       "      <td>0.000000</td>\n",
       "      <td>0.000000</td>\n",
       "      <td>0.000000</td>\n",
       "      <td>0.000000</td>\n",
       "      <td>0.000000</td>\n",
       "      <td>0.000000</td>\n",
       "      <td>0.000000</td>\n",
       "    </tr>\n",
       "    <tr>\n",
       "      <th>max</th>\n",
       "      <td>30265.00000</td>\n",
       "      <td>1.000000</td>\n",
       "      <td>1.000000</td>\n",
       "      <td>1.000000</td>\n",
       "      <td>1.000000</td>\n",
       "      <td>1.000000</td>\n",
       "      <td>1.000000</td>\n",
       "      <td>1.000000</td>\n",
       "      <td>1.000000</td>\n",
       "      <td>1.000000</td>\n",
       "      <td>1.000000</td>\n",
       "      <td>1.000000</td>\n",
       "      <td>1.000000</td>\n",
       "      <td>1.000000</td>\n",
       "      <td>1.000000</td>\n",
       "      <td>1.000000</td>\n",
       "      <td>1.000000</td>\n",
       "      <td>1.000000</td>\n",
       "      <td>1.000000</td>\n",
       "      <td>1.000000</td>\n",
       "      <td>1.000000</td>\n",
       "      <td>1.000000</td>\n",
       "      <td>1.000000</td>\n",
       "      <td>1.000000</td>\n",
       "      <td>1.000000</td>\n",
       "      <td>1.000000</td>\n",
       "      <td>1.000000</td>\n",
       "      <td>1.000000</td>\n",
       "      <td>1.000000</td>\n",
       "      <td>1.000000</td>\n",
       "      <td>1.000000</td>\n",
       "      <td>1.000000</td>\n",
       "      <td>1.000000</td>\n",
       "      <td>1.000000</td>\n",
       "      <td>1.000000</td>\n",
       "      <td>1.000000</td>\n",
       "    </tr>\n",
       "  </tbody>\n",
       "</table>\n",
       "</div>"
      ],
      "text/plain": [
       "                id       related       request         offer   aid_related  \\\n",
       "count  26216.00000  26216.000000  26216.000000  26216.000000  26216.000000   \n",
       "mean   15224.82133      0.766478      0.170659      0.004501      0.414251   \n",
       "std     8826.88914      0.423079      0.376218      0.066940      0.492602   \n",
       "min        2.00000      0.000000      0.000000      0.000000      0.000000   \n",
       "25%     7446.75000      1.000000      0.000000      0.000000      0.000000   \n",
       "50%    15662.50000      1.000000      0.000000      0.000000      0.000000   \n",
       "75%    22924.25000      1.000000      0.000000      0.000000      1.000000   \n",
       "max    30265.00000      1.000000      1.000000      1.000000      1.000000   \n",
       "\n",
       "       medical_help  medical_products  search_and_rescue      security  \\\n",
       "count  26216.000000      26216.000000       26216.000000  26216.000000   \n",
       "mean       0.079493          0.050084           0.027617      0.017966   \n",
       "std        0.270513          0.218122           0.163875      0.132831   \n",
       "min        0.000000          0.000000           0.000000      0.000000   \n",
       "25%        0.000000          0.000000           0.000000      0.000000   \n",
       "50%        0.000000          0.000000           0.000000      0.000000   \n",
       "75%        0.000000          0.000000           0.000000      0.000000   \n",
       "max        1.000000          1.000000           1.000000      1.000000   \n",
       "\n",
       "           military         water          food       shelter      clothing  \\\n",
       "count  26216.000000  26216.000000  26216.000000  26216.000000  26216.000000   \n",
       "mean       0.032804      0.063778      0.111497      0.088267      0.015449   \n",
       "std        0.178128      0.244361      0.314752      0.283688      0.123331   \n",
       "min        0.000000      0.000000      0.000000      0.000000      0.000000   \n",
       "25%        0.000000      0.000000      0.000000      0.000000      0.000000   \n",
       "50%        0.000000      0.000000      0.000000      0.000000      0.000000   \n",
       "75%        0.000000      0.000000      0.000000      0.000000      0.000000   \n",
       "max        1.000000      1.000000      1.000000      1.000000      1.000000   \n",
       "\n",
       "              money  missing_people      refugees         death     other_aid  \\\n",
       "count  26216.000000    26216.000000  26216.000000  26216.000000  26216.000000   \n",
       "mean       0.023039        0.011367      0.033377      0.045545      0.131446   \n",
       "std        0.150031        0.106011      0.179621      0.208500      0.337894   \n",
       "min        0.000000        0.000000      0.000000      0.000000      0.000000   \n",
       "25%        0.000000        0.000000      0.000000      0.000000      0.000000   \n",
       "50%        0.000000        0.000000      0.000000      0.000000      0.000000   \n",
       "75%        0.000000        0.000000      0.000000      0.000000      0.000000   \n",
       "max        1.000000        1.000000      1.000000      1.000000      1.000000   \n",
       "\n",
       "       infrastructure_related     transport     buildings   electricity  \\\n",
       "count            26216.000000  26216.000000  26216.000000  26216.000000   \n",
       "mean                 0.065037      0.045812      0.050847      0.020293   \n",
       "std                  0.246595      0.209081      0.219689      0.141003   \n",
       "min                  0.000000      0.000000      0.000000      0.000000   \n",
       "25%                  0.000000      0.000000      0.000000      0.000000   \n",
       "50%                  0.000000      0.000000      0.000000      0.000000   \n",
       "75%                  0.000000      0.000000      0.000000      0.000000   \n",
       "max                  1.000000      1.000000      1.000000      1.000000   \n",
       "\n",
       "              tools     hospitals         shops   aid_centers  \\\n",
       "count  26216.000000  26216.000000  26216.000000  26216.000000   \n",
       "mean       0.006065      0.010795      0.004577      0.011787   \n",
       "std        0.077643      0.103338      0.067502      0.107927   \n",
       "min        0.000000      0.000000      0.000000      0.000000   \n",
       "25%        0.000000      0.000000      0.000000      0.000000   \n",
       "50%        0.000000      0.000000      0.000000      0.000000   \n",
       "75%        0.000000      0.000000      0.000000      0.000000   \n",
       "max        1.000000      1.000000      1.000000      1.000000   \n",
       "\n",
       "       other_infrastructure  weather_related        floods         storm  \\\n",
       "count          26216.000000     26216.000000  26216.000000  26216.000000   \n",
       "mean               0.043904         0.278341      0.082202      0.093187   \n",
       "std                0.204887         0.448191      0.274677      0.290700   \n",
       "min                0.000000         0.000000      0.000000      0.000000   \n",
       "25%                0.000000         0.000000      0.000000      0.000000   \n",
       "50%                0.000000         0.000000      0.000000      0.000000   \n",
       "75%                0.000000         1.000000      0.000000      0.000000   \n",
       "max                1.000000         1.000000      1.000000      1.000000   \n",
       "\n",
       "               fire    earthquake          cold  other_weather  direct_report  \n",
       "count  26216.000000  26216.000000  26216.000000   26216.000000   26216.000000  \n",
       "mean       0.010757      0.093645      0.020217       0.052487       0.193584  \n",
       "std        0.103158      0.291340      0.140743       0.223011       0.395114  \n",
       "min        0.000000      0.000000      0.000000       0.000000       0.000000  \n",
       "25%        0.000000      0.000000      0.000000       0.000000       0.000000  \n",
       "50%        0.000000      0.000000      0.000000       0.000000       0.000000  \n",
       "75%        0.000000      0.000000      0.000000       0.000000       0.000000  \n",
       "max        1.000000      1.000000      1.000000       1.000000       1.000000  "
      ]
     },
     "execution_count": 21,
     "metadata": {},
     "output_type": "execute_result"
    }
   ],
   "source": [
    "pd.set_option('display.max_columns', None) #display all columns\n",
    "df.describe()"
   ]
  },
  {
   "cell_type": "code",
   "execution_count": 22,
   "metadata": {},
   "outputs": [],
   "source": [
    "X= df['message']\n",
    "Y= df.iloc[:,4:]"
   ]
  },
  {
   "cell_type": "code",
   "execution_count": 23,
   "metadata": {},
   "outputs": [
    {
     "data": {
      "text/plain": [
       "0    Weather update - a cold front from Cuba that c...\n",
       "1              Is the Hurricane over or is it not over\n",
       "2                      Looking for someone but no name\n",
       "3    UN reports Leogane 80-90 destroyed. Only Hospi...\n",
       "4    says: west side of Haiti, rest of the country ...\n",
       "Name: message, dtype: object"
      ]
     },
     "execution_count": 23,
     "metadata": {},
     "output_type": "execute_result"
    }
   ],
   "source": [
    "X.head()"
   ]
  },
  {
   "cell_type": "code",
   "execution_count": 24,
   "metadata": {},
   "outputs": [],
   "source": [
    "url_regex = 'http[s]?://(?:[a-zA-Z]|[0-9]|[$-_@.&+]|[!*\\(\\),]|(?:%[0-9a-fA-F][0-9a-fA-F]))+'"
   ]
  },
  {
   "cell_type": "markdown",
   "metadata": {},
   "source": [
    "### 2. Write a tokenization function to process your text data"
   ]
  },
  {
   "cell_type": "code",
   "execution_count": 25,
   "metadata": {},
   "outputs": [],
   "source": [
    "def tokenize(text):\n",
    "    \n",
    "    # get list of all urls using regex\n",
    "    detected_urls = re.findall(url_regex, text)\n",
    "    \n",
    "    # replace each url in text string with placeholder\n",
    "    for url in detected_urls:\n",
    "        text = text.replace(url, \"urlplaceholder\")\n",
    "    \n",
    "    #Remove punctuation\n",
    "    text = re.sub(r\"[^a-zA-Z0-9]\", \" \",text)\n",
    "    \n",
    "    #Remove extra space within a meassage \n",
    "    text = \" \".join(text.split())\n",
    "    \n",
    "    # tokenize text\n",
    "    tokens = word_tokenize(text)\n",
    "    \n",
    "    # initiate lemmatizer\n",
    "    lemmatizer = WordNetLemmatizer()\n",
    "\n",
    "    # iterate through each token\n",
    "    clean_tokens = []\n",
    "    for tok in tokens:\n",
    "        \n",
    "        # lemmatize, normalize case, and remove leading/trailing white space\n",
    "        clean_tok = lemmatizer.lemmatize(tok).lower().strip()\n",
    "        clean_tokens.append(clean_tok)\n",
    "    \n",
    "    # remove stop words\n",
    "    clean_tokens = [w for w in clean_tokens if w not in stopwords.words(\"english\")]\n",
    "    \n",
    "    return clean_tokens\n",
    "    "
   ]
  },
  {
   "cell_type": "code",
   "execution_count": 26,
   "metadata": {},
   "outputs": [
    {
     "name": "stdout",
     "output_type": "stream",
     "text": [
      "Weather update - a cold front from Cuba that could pass over Haiti\n",
      "['weather', 'update', 'cold', 'front', 'cuba', 'could', 'pas', 'haiti'] \n",
      "\n",
      "Is the Hurricane over or is it not over\n",
      "['hurricane'] \n",
      "\n",
      "Looking for someone but no name\n",
      "['looking', 'someone', 'name'] \n",
      "\n",
      "UN reports Leogane 80-90 destroyed. Only Hospital St. Croix functioning. Needs supplies desperately.\n",
      "['un', 'report', 'leogane', '80', '90', 'destroyed', 'hospital', 'st', 'croix', 'functioning', 'needs', 'supply', 'desperately'] \n",
      "\n",
      "says: west side of Haiti, rest of the country today and tonight\n",
      "['say', 'west', 'side', 'haiti', 'rest', 'country', 'today', 'tonight'] \n",
      "\n"
     ]
    }
   ],
   "source": [
    "#test tokenize\n",
    "for message in X[:5]:\n",
    "    tokens = tokenize(message)\n",
    "    print(message)\n",
    "    print(tokens, '\\n')"
   ]
  },
  {
   "cell_type": "markdown",
   "metadata": {},
   "source": [
    "### 3. Build a machine learning pipeline\n",
    "This machine pipeline should take in the `message` column as input and output classification results on the other 36 categories in the dataset. You may find the [MultiOutputClassifier](http://scikit-learn.org/stable/modules/generated/sklearn.multioutput.MultiOutputClassifier.html) helpful for predicting multiple target variables."
   ]
  },
  {
   "cell_type": "code",
   "execution_count": 13,
   "metadata": {},
   "outputs": [],
   "source": [
    "# build our first pipeline using logisticRegression\n",
    "pipeline = Pipeline([\n",
    "        ('vect', CountVectorizer(tokenizer=tokenize)),\n",
    "        ('tfidf', TfidfTransformer()),\n",
    "        ('moclf', MultiOutputClassifier(LogisticRegression()))    \n",
    "    ])"
   ]
  },
  {
   "cell_type": "markdown",
   "metadata": {},
   "source": [
    "### 4. Train pipeline\n",
    "- Split data into train and test sets\n",
    "- Train pipeline"
   ]
  },
  {
   "cell_type": "code",
   "execution_count": 11,
   "metadata": {},
   "outputs": [
    {
     "data": {
      "text/plain": [
       "Pipeline(memory=None,\n",
       "     steps=[('vect', CountVectorizer(analyzer='word', binary=False, decode_error='strict',\n",
       "        dtype=<class 'numpy.int64'>, encoding='utf-8', input='content',\n",
       "        lowercase=True, max_df=1.0, max_features=None, min_df=1,\n",
       "        ngram_range=(1, 1), preprocessor=None, stop_words=None,\n",
       "        strip...None, solver='liblinear', tol=0.0001,\n",
       "          verbose=0, warm_start=False),\n",
       "           n_jobs=1))])"
      ]
     },
     "execution_count": 11,
     "metadata": {},
     "output_type": "execute_result"
    }
   ],
   "source": [
    "X_train, X_test, Y_train, Y_test = train_test_split(X, Y)\n",
    "pipeline.fit(X_train, Y_train)"
   ]
  },
  {
   "cell_type": "markdown",
   "metadata": {},
   "source": [
    "### 5. Test your model\n",
    "Report the f1 score, precision and recall for each output category of the dataset. You can do this by iterating through the columns and calling sklearn's `classification_report` on each."
   ]
  },
  {
   "cell_type": "code",
   "execution_count": 12,
   "metadata": {},
   "outputs": [
    {
     "name": "stdout",
     "output_type": "stream",
     "text": [
      "                        precision    recall  f1-score   support\n",
      "\n",
      "               related       0.85      0.95      0.90      5058\n",
      "               request       0.82      0.54      0.65      1144\n",
      "                 offer       0.00      0.00      0.00        21\n",
      "           aid_related       0.77      0.66      0.71      2718\n",
      "          medical_help       0.65      0.14      0.23       521\n",
      "      medical_products       0.83      0.18      0.30       350\n",
      "     search_and_rescue       0.80      0.05      0.09       174\n",
      "              security       0.00      0.00      0.00       120\n",
      "              military       0.72      0.10      0.18       209\n",
      "                 water       0.80      0.49      0.61       425\n",
      "                  food       0.85      0.58      0.69       753\n",
      "               shelter       0.84      0.44      0.57       568\n",
      "              clothing       0.86      0.18      0.30        98\n",
      "                 money       0.67      0.04      0.08       136\n",
      "        missing_people       0.00      0.00      0.00        78\n",
      "              refugees       0.67      0.06      0.10       216\n",
      "                 death       0.88      0.22      0.35       301\n",
      "             other_aid       0.62      0.12      0.20       874\n",
      "infrastructure_related       0.64      0.04      0.07       416\n",
      "             transport       0.87      0.14      0.24       324\n",
      "             buildings       0.75      0.22      0.33       330\n",
      "           electricity       0.69      0.07      0.13       149\n",
      "                 tools       0.00      0.00      0.00        39\n",
      "             hospitals       0.00      0.00      0.00        65\n",
      "                 shops       0.00      0.00      0.00        29\n",
      "           aid_centers       0.00      0.00      0.00        70\n",
      "  other_infrastructure       0.55      0.02      0.04       284\n",
      "       weather_related       0.86      0.65      0.74      1843\n",
      "                floods       0.92      0.38      0.54       577\n",
      "                 storm       0.79      0.42      0.55       627\n",
      "                  fire       0.00      0.00      0.00        70\n",
      "            earthquake       0.88      0.65      0.75       601\n",
      "                  cold       0.74      0.11      0.19       126\n",
      "         other_weather       0.68      0.04      0.08       334\n",
      "         direct_report       0.78      0.43      0.55      1292\n",
      "\n",
      "           avg / total       0.78      0.54      0.59     20940\n",
      "\n"
     ]
    },
    {
     "name": "stderr",
     "output_type": "stream",
     "text": [
      "/opt/conda/lib/python3.6/site-packages/sklearn/metrics/classification.py:1135: UndefinedMetricWarning: Precision and F-score are ill-defined and being set to 0.0 in labels with no predicted samples.\n",
      "  'precision', 'predicted', average, warn_for)\n"
     ]
    }
   ],
   "source": [
    "Y_pred = pipeline.predict(X_test)\n",
    "\n",
    "target_names = Y.columns\n",
    "print(classification_report(Y_test, Y_pred, target_names=target_names))"
   ]
  },
  {
   "cell_type": "markdown",
   "metadata": {},
   "source": [
    "### 6. Improve your model\n",
    "Use grid search to find better parameters. "
   ]
  },
  {
   "cell_type": "code",
   "execution_count": 13,
   "metadata": {},
   "outputs": [
    {
     "data": {
      "text/plain": [
       "{'memory': None,\n",
       " 'steps': [('vect',\n",
       "   CountVectorizer(analyzer='word', binary=False, decode_error='strict',\n",
       "           dtype=<class 'numpy.int64'>, encoding='utf-8', input='content',\n",
       "           lowercase=True, max_df=1.0, max_features=None, min_df=1,\n",
       "           ngram_range=(1, 1), preprocessor=None, stop_words=None,\n",
       "           strip_accents=None, token_pattern='(?u)\\\\b\\\\w\\\\w+\\\\b',\n",
       "           tokenizer=<function tokenize at 0x7f13cc4a8bf8>, vocabulary=None)),\n",
       "  ('tfidf',\n",
       "   TfidfTransformer(norm='l2', smooth_idf=True, sublinear_tf=False, use_idf=True)),\n",
       "  ('moclf',\n",
       "   MultiOutputClassifier(estimator=LogisticRegression(C=1.0, class_weight=None, dual=False, fit_intercept=True,\n",
       "             intercept_scaling=1, max_iter=100, multi_class='ovr', n_jobs=1,\n",
       "             penalty='l2', random_state=None, solver='liblinear', tol=0.0001,\n",
       "             verbose=0, warm_start=False),\n",
       "              n_jobs=1))],\n",
       " 'vect': CountVectorizer(analyzer='word', binary=False, decode_error='strict',\n",
       "         dtype=<class 'numpy.int64'>, encoding='utf-8', input='content',\n",
       "         lowercase=True, max_df=1.0, max_features=None, min_df=1,\n",
       "         ngram_range=(1, 1), preprocessor=None, stop_words=None,\n",
       "         strip_accents=None, token_pattern='(?u)\\\\b\\\\w\\\\w+\\\\b',\n",
       "         tokenizer=<function tokenize at 0x7f13cc4a8bf8>, vocabulary=None),\n",
       " 'tfidf': TfidfTransformer(norm='l2', smooth_idf=True, sublinear_tf=False, use_idf=True),\n",
       " 'moclf': MultiOutputClassifier(estimator=LogisticRegression(C=1.0, class_weight=None, dual=False, fit_intercept=True,\n",
       "           intercept_scaling=1, max_iter=100, multi_class='ovr', n_jobs=1,\n",
       "           penalty='l2', random_state=None, solver='liblinear', tol=0.0001,\n",
       "           verbose=0, warm_start=False),\n",
       "            n_jobs=1),\n",
       " 'vect__analyzer': 'word',\n",
       " 'vect__binary': False,\n",
       " 'vect__decode_error': 'strict',\n",
       " 'vect__dtype': numpy.int64,\n",
       " 'vect__encoding': 'utf-8',\n",
       " 'vect__input': 'content',\n",
       " 'vect__lowercase': True,\n",
       " 'vect__max_df': 1.0,\n",
       " 'vect__max_features': None,\n",
       " 'vect__min_df': 1,\n",
       " 'vect__ngram_range': (1, 1),\n",
       " 'vect__preprocessor': None,\n",
       " 'vect__stop_words': None,\n",
       " 'vect__strip_accents': None,\n",
       " 'vect__token_pattern': '(?u)\\\\b\\\\w\\\\w+\\\\b',\n",
       " 'vect__tokenizer': <function __main__.tokenize(text)>,\n",
       " 'vect__vocabulary': None,\n",
       " 'tfidf__norm': 'l2',\n",
       " 'tfidf__smooth_idf': True,\n",
       " 'tfidf__sublinear_tf': False,\n",
       " 'tfidf__use_idf': True,\n",
       " 'moclf__estimator__C': 1.0,\n",
       " 'moclf__estimator__class_weight': None,\n",
       " 'moclf__estimator__dual': False,\n",
       " 'moclf__estimator__fit_intercept': True,\n",
       " 'moclf__estimator__intercept_scaling': 1,\n",
       " 'moclf__estimator__max_iter': 100,\n",
       " 'moclf__estimator__multi_class': 'ovr',\n",
       " 'moclf__estimator__n_jobs': 1,\n",
       " 'moclf__estimator__penalty': 'l2',\n",
       " 'moclf__estimator__random_state': None,\n",
       " 'moclf__estimator__solver': 'liblinear',\n",
       " 'moclf__estimator__tol': 0.0001,\n",
       " 'moclf__estimator__verbose': 0,\n",
       " 'moclf__estimator__warm_start': False,\n",
       " 'moclf__estimator': LogisticRegression(C=1.0, class_weight=None, dual=False, fit_intercept=True,\n",
       "           intercept_scaling=1, max_iter=100, multi_class='ovr', n_jobs=1,\n",
       "           penalty='l2', random_state=None, solver='liblinear', tol=0.0001,\n",
       "           verbose=0, warm_start=False),\n",
       " 'moclf__n_jobs': 1}"
      ]
     },
     "execution_count": 13,
     "metadata": {},
     "output_type": "execute_result"
    }
   ],
   "source": [
    "pipeline.get_params()"
   ]
  },
  {
   "cell_type": "code",
   "execution_count": 33,
   "metadata": {},
   "outputs": [],
   "source": [
    "parameters = {\n",
    "    'vect__max_df': (0.5, 0.75),\n",
    "    'moclf__estimator__C': (0.1, 1),\n",
    "    'moclf__estimator__penalty': ('l1', 'l2')}\n",
    "\n",
    "cv = GridSearchCV(pipeline, param_grid=parameters,verbose =2, n_jobs=-1) \n",
    "#verbose helped to see the progress of our grid searc"
   ]
  },
  {
   "cell_type": "code",
   "execution_count": 34,
   "metadata": {},
   "outputs": [
    {
     "name": "stdout",
     "output_type": "stream",
     "text": [
      "Fitting 3 folds for each of 8 candidates, totalling 24 fits\n",
      "[CV] moclf__estimator__C=0.1, moclf__estimator__penalty=l1, vect__max_df=0.5 \n",
      "[CV]  moclf__estimator__C=0.1, moclf__estimator__penalty=l1, vect__max_df=0.5, total= 1.4min\n",
      "[CV] moclf__estimator__C=0.1, moclf__estimator__penalty=l1, vect__max_df=0.5 \n"
     ]
    },
    {
     "name": "stderr",
     "output_type": "stream",
     "text": [
      "[Parallel(n_jobs=-1)]: Done   1 out of   1 | elapsed:  2.3min remaining:    0.0s\n"
     ]
    },
    {
     "name": "stdout",
     "output_type": "stream",
     "text": [
      "[CV]  moclf__estimator__C=0.1, moclf__estimator__penalty=l1, vect__max_df=0.5, total= 1.4min\n",
      "[CV] moclf__estimator__C=0.1, moclf__estimator__penalty=l1, vect__max_df=0.75 \n",
      "[CV]  moclf__estimator__C=0.1, moclf__estimator__penalty=l1, vect__max_df=0.75, total= 1.4min\n",
      "[CV] moclf__estimator__C=0.1, moclf__estimator__penalty=l1, vect__max_df=0.75 \n",
      "[CV]  moclf__estimator__C=0.1, moclf__estimator__penalty=l1, vect__max_df=0.75, total= 1.4min\n",
      "[CV] moclf__estimator__C=0.1, moclf__estimator__penalty=l1, vect__max_df=0.75 \n",
      "[CV]  moclf__estimator__C=0.1, moclf__estimator__penalty=l1, vect__max_df=0.75, total= 1.4min\n",
      "[CV] moclf__estimator__C=0.1, moclf__estimator__penalty=l2, vect__max_df=0.5 \n",
      "[CV]  moclf__estimator__C=0.1, moclf__estimator__penalty=l2, vect__max_df=0.5, total= 1.4min\n",
      "[CV] moclf__estimator__C=0.1, moclf__estimator__penalty=l2, vect__max_df=0.5 \n",
      "[CV]  moclf__estimator__C=0.1, moclf__estimator__penalty=l2, vect__max_df=0.5, total= 1.4min\n",
      "[CV] moclf__estimator__C=0.1, moclf__estimator__penalty=l2, vect__max_df=0.5 \n",
      "[CV]  moclf__estimator__C=0.1, moclf__estimator__penalty=l2, vect__max_df=0.5, total= 1.4min\n",
      "[CV] moclf__estimator__C=0.1, moclf__estimator__penalty=l2, vect__max_df=0.75 \n",
      "[CV]  moclf__estimator__C=0.1, moclf__estimator__penalty=l2, vect__max_df=0.75, total= 1.4min\n",
      "[CV] moclf__estimator__C=0.1, moclf__estimator__penalty=l2, vect__max_df=0.75 \n",
      "[CV]  moclf__estimator__C=0.1, moclf__estimator__penalty=l2, vect__max_df=0.75, total= 1.4min\n",
      "[CV] moclf__estimator__C=0.1, moclf__estimator__penalty=l2, vect__max_df=0.75 \n",
      "[CV]  moclf__estimator__C=0.1, moclf__estimator__penalty=l2, vect__max_df=0.75, total= 1.4min\n",
      "[CV] moclf__estimator__C=1, moclf__estimator__penalty=l1, vect__max_df=0.5 \n",
      "[CV]  moclf__estimator__C=1, moclf__estimator__penalty=l1, vect__max_df=0.5, total= 1.4min\n",
      "[CV] moclf__estimator__C=1, moclf__estimator__penalty=l1, vect__max_df=0.5 \n",
      "[CV]  moclf__estimator__C=1, moclf__estimator__penalty=l1, vect__max_df=0.5, total= 1.4min\n",
      "[CV] moclf__estimator__C=1, moclf__estimator__penalty=l1, vect__max_df=0.5 \n",
      "[CV]  moclf__estimator__C=1, moclf__estimator__penalty=l1, vect__max_df=0.5, total= 1.4min\n",
      "[CV] moclf__estimator__C=1, moclf__estimator__penalty=l1, vect__max_df=0.75 \n",
      "[CV]  moclf__estimator__C=1, moclf__estimator__penalty=l1, vect__max_df=0.75, total= 1.4min\n",
      "[CV] moclf__estimator__C=1, moclf__estimator__penalty=l1, vect__max_df=0.75 \n",
      "[CV]  moclf__estimator__C=1, moclf__estimator__penalty=l1, vect__max_df=0.75, total= 1.4min\n",
      "[CV] moclf__estimator__C=1, moclf__estimator__penalty=l1, vect__max_df=0.75 \n",
      "[CV]  moclf__estimator__C=1, moclf__estimator__penalty=l1, vect__max_df=0.75, total= 1.4min\n",
      "[CV] moclf__estimator__C=1, moclf__estimator__penalty=l2, vect__max_df=0.5 \n",
      "[CV]  moclf__estimator__C=1, moclf__estimator__penalty=l2, vect__max_df=0.5, total= 1.4min\n",
      "[CV] moclf__estimator__C=1, moclf__estimator__penalty=l2, vect__max_df=0.5 \n",
      "[CV]  moclf__estimator__C=1, moclf__estimator__penalty=l2, vect__max_df=0.5, total= 1.4min\n",
      "[CV] moclf__estimator__C=1, moclf__estimator__penalty=l2, vect__max_df=0.5 \n",
      "[CV]  moclf__estimator__C=1, moclf__estimator__penalty=l2, vect__max_df=0.5, total= 1.4min\n",
      "[CV] moclf__estimator__C=1, moclf__estimator__penalty=l2, vect__max_df=0.75 \n",
      "[CV]  moclf__estimator__C=1, moclf__estimator__penalty=l2, vect__max_df=0.75, total= 1.4min\n",
      "[CV] moclf__estimator__C=1, moclf__estimator__penalty=l2, vect__max_df=0.75 \n",
      "[CV]  moclf__estimator__C=1, moclf__estimator__penalty=l2, vect__max_df=0.75, total= 1.4min\n",
      "[CV] moclf__estimator__C=1, moclf__estimator__penalty=l2, vect__max_df=0.75 \n",
      "[CV]  moclf__estimator__C=1, moclf__estimator__penalty=l2, vect__max_df=0.75, total= 1.4min\n"
     ]
    },
    {
     "name": "stderr",
     "output_type": "stream",
     "text": [
      "[Parallel(n_jobs=-1)]: Done  24 out of  24 | elapsed: 56.8min finished\n"
     ]
    },
    {
     "data": {
      "text/plain": [
       "GridSearchCV(cv=None, error_score='raise',\n",
       "       estimator=Pipeline(memory=None,\n",
       "     steps=[('vect', CountVectorizer(analyzer='word', binary=False, decode_error='strict',\n",
       "        dtype=<class 'numpy.int64'>, encoding='utf-8', input='content',\n",
       "        lowercase=True, max_df=1.0, max_features=None, min_df=1,\n",
       "        ngram_range=(1, 1), preprocessor=None, stop_words=None,\n",
       "        strip...None, solver='liblinear', tol=0.0001,\n",
       "          verbose=0, warm_start=False),\n",
       "           n_jobs=1))]),\n",
       "       fit_params=None, iid=True, n_jobs=-1,\n",
       "       param_grid={'vect__max_df': (0.5, 0.75), 'moclf__estimator__C': (0.1, 1), 'moclf__estimator__penalty': ('l1', 'l2')},\n",
       "       pre_dispatch='2*n_jobs', refit=True, return_train_score='warn',\n",
       "       scoring=None, verbose=2)"
      ]
     },
     "execution_count": 34,
     "metadata": {},
     "output_type": "execute_result"
    }
   ],
   "source": [
    "cv.fit(X_train, Y_train)"
   ]
  },
  {
   "cell_type": "code",
   "execution_count": 36,
   "metadata": {},
   "outputs": [],
   "source": [
    "y_pred = cv.predict(X_test)"
   ]
  },
  {
   "cell_type": "code",
   "execution_count": 35,
   "metadata": {},
   "outputs": [
    {
     "data": {
      "text/plain": [
       "{'moclf__estimator__C': 1,\n",
       " 'moclf__estimator__penalty': 'l1',\n",
       " 'vect__max_df': 0.5}"
      ]
     },
     "execution_count": 35,
     "metadata": {},
     "output_type": "execute_result"
    }
   ],
   "source": [
    "cv.best_params_"
   ]
  },
  {
   "cell_type": "markdown",
   "metadata": {},
   "source": [
    "### 7. Test your model\n",
    "Show the accuracy, precision, and recall of the tuned model.  \n",
    "\n",
    "Since this project focuses on code quality, process, and  pipelines, there is no minimum performance metric needed to pass. However, make sure to fine tune your models for accuracy, precision and recall to make your project stand out - especially for your portfolio!"
   ]
  },
  {
   "cell_type": "code",
   "execution_count": 37,
   "metadata": {},
   "outputs": [
    {
     "name": "stdout",
     "output_type": "stream",
     "text": [
      "                        precision    recall  f1-score   support\n",
      "\n",
      "               related       0.85      0.95      0.90      5058\n",
      "               request       0.82      0.54      0.65      1144\n",
      "                 offer       0.00      0.00      0.00        21\n",
      "           aid_related       0.77      0.66      0.71      2718\n",
      "          medical_help       0.65      0.14      0.23       521\n",
      "      medical_products       0.83      0.18      0.30       350\n",
      "     search_and_rescue       0.80      0.05      0.09       174\n",
      "              security       0.00      0.00      0.00       120\n",
      "              military       0.72      0.10      0.18       209\n",
      "                 water       0.80      0.49      0.61       425\n",
      "                  food       0.85      0.58      0.69       753\n",
      "               shelter       0.84      0.44      0.57       568\n",
      "              clothing       0.86      0.18      0.30        98\n",
      "                 money       0.67      0.04      0.08       136\n",
      "        missing_people       0.00      0.00      0.00        78\n",
      "              refugees       0.67      0.06      0.10       216\n",
      "                 death       0.88      0.22      0.35       301\n",
      "             other_aid       0.62      0.12      0.20       874\n",
      "infrastructure_related       0.64      0.04      0.07       416\n",
      "             transport       0.87      0.14      0.24       324\n",
      "             buildings       0.75      0.22      0.33       330\n",
      "           electricity       0.69      0.07      0.13       149\n",
      "                 tools       0.00      0.00      0.00        39\n",
      "             hospitals       0.00      0.00      0.00        65\n",
      "                 shops       0.00      0.00      0.00        29\n",
      "           aid_centers       0.00      0.00      0.00        70\n",
      "  other_infrastructure       0.55      0.02      0.04       284\n",
      "       weather_related       0.86      0.65      0.74      1843\n",
      "                floods       0.92      0.38      0.54       577\n",
      "                 storm       0.79      0.42      0.55       627\n",
      "                  fire       0.00      0.00      0.00        70\n",
      "            earthquake       0.88      0.65      0.75       601\n",
      "                  cold       0.74      0.11      0.19       126\n",
      "         other_weather       0.68      0.04      0.08       334\n",
      "         direct_report       0.78      0.43      0.55      1292\n",
      "\n",
      "           avg / total       0.78      0.54      0.59     20940\n",
      "\n"
     ]
    },
    {
     "name": "stderr",
     "output_type": "stream",
     "text": [
      "/opt/conda/lib/python3.6/site-packages/sklearn/metrics/classification.py:1135: UndefinedMetricWarning: Precision and F-score are ill-defined and being set to 0.0 in labels with no predicted samples.\n",
      "  'precision', 'predicted', average, warn_for)\n"
     ]
    }
   ],
   "source": [
    "target_names = Y.columns\n",
    "print(classification_report(Y_test, Y_pred, target_names=target_names))"
   ]
  },
  {
   "cell_type": "code",
   "execution_count": 38,
   "metadata": {},
   "outputs": [
    {
     "data": {
      "text/plain": [
       "Pipeline(memory=None,\n",
       "     steps=[('vect', CountVectorizer(analyzer='word', binary=False, decode_error='strict',\n",
       "        dtype=<class 'numpy.int64'>, encoding='utf-8', input='content',\n",
       "        lowercase=True, max_df=0.5, max_features=None, min_df=1,\n",
       "        ngram_range=(1, 1), preprocessor=None, stop_words=None,\n",
       "        strip...None, solver='liblinear', tol=0.0001,\n",
       "          verbose=0, warm_start=False),\n",
       "           n_jobs=1))])"
      ]
     },
     "execution_count": 38,
     "metadata": {},
     "output_type": "execute_result"
    }
   ],
   "source": [
    "cv.best_estimator_"
   ]
  },
  {
   "cell_type": "markdown",
   "metadata": {},
   "source": [
    "##### the model performs the same after optimization, therefore below we find that AdaBoostClassifier performs better than logistic regression, which we will use along with adding a verb extractor feature to our pipeline:"
   ]
  },
  {
   "cell_type": "code",
   "execution_count": 26,
   "metadata": {},
   "outputs": [],
   "source": [
    "#building a pipeline using AdaBoostClassifier performs better than LogisticRegression\n",
    "pipeline_3 = Pipeline([\n",
    "        ('vect', CountVectorizer(tokenizer=tokenize)),\n",
    "        ('tfidf', TfidfTransformer()),\n",
    "        ('moclf', MultiOutputClassifier(AdaBoostClassifier()))    \n",
    "    ])"
   ]
  },
  {
   "cell_type": "code",
   "execution_count": 27,
   "metadata": {},
   "outputs": [
    {
     "name": "stdout",
     "output_type": "stream",
     "text": [
      "                        precision    recall  f1-score   support\n",
      "\n",
      "               related       0.80      0.98      0.88      5012\n",
      "               request       0.76      0.50      0.61      1157\n",
      "                 offer       0.00      0.00      0.00        30\n",
      "           aid_related       0.77      0.60      0.67      2687\n",
      "          medical_help       0.65      0.25      0.36       505\n",
      "      medical_products       0.62      0.30      0.40       342\n",
      "     search_and_rescue       0.55      0.16      0.25       182\n",
      "              security       0.19      0.04      0.07       119\n",
      "              military       0.60      0.35      0.44       209\n",
      "                 water       0.77      0.65      0.71       426\n",
      "                  food       0.83      0.64      0.73       721\n",
      "               shelter       0.76      0.52      0.62       573\n",
      "              clothing       0.65      0.37      0.47       110\n",
      "                 money       0.54      0.25      0.34       142\n",
      "        missing_people       0.53      0.13      0.20        79\n",
      "              refugees       0.58      0.21      0.31       200\n",
      "                 death       0.77      0.42      0.54       296\n",
      "             other_aid       0.50      0.16      0.24       841\n",
      "infrastructure_related       0.33      0.08      0.12       402\n",
      "             transport       0.60      0.19      0.29       289\n",
      "             buildings       0.68      0.40      0.50       322\n",
      "           electricity       0.49      0.27      0.35       120\n",
      "                 tools       0.11      0.03      0.04        37\n",
      "             hospitals       0.32      0.09      0.14        67\n",
      "                 shops       0.00      0.00      0.00        24\n",
      "           aid_centers       0.36      0.12      0.18        65\n",
      "  other_infrastructure       0.26      0.07      0.12       282\n",
      "       weather_related       0.86      0.63      0.73      1837\n",
      "                floods       0.86      0.53      0.66       532\n",
      "                 storm       0.77      0.53      0.63       603\n",
      "                  fire       0.68      0.19      0.30        77\n",
      "            earthquake       0.86      0.82      0.84       613\n",
      "                  cold       0.61      0.33      0.42       132\n",
      "         other_weather       0.48      0.15      0.23       314\n",
      "         direct_report       0.71      0.40      0.52      1295\n",
      "\n",
      "           avg / total       0.73      0.58      0.62     20642\n",
      "\n"
     ]
    }
   ],
   "source": [
    "X3_train, X3_test, Y3_train, Y3_test = train_test_split(X, Y)\n",
    "pipeline_3.fit(X3_train, Y3_train)\n",
    "Y3_pred = pipeline_3.predict(X3_test)\n",
    "#def display_results(y_test, y_pred):\n",
    "target_names = Y.columns\n",
    "print(classification_report(Y3_test, Y3_pred, target_names=target_names))"
   ]
  },
  {
   "cell_type": "markdown",
   "metadata": {},
   "source": [
    "### 8. Try improving your model further. Here are a few ideas:\n",
    "* try other machine learning algorithms\n",
    "* add other features besides the TF-IDF"
   ]
  },
  {
   "cell_type": "code",
   "execution_count": 27,
   "metadata": {},
   "outputs": [],
   "source": [
    "class StartingVerbExtractor(BaseEstimator, TransformerMixin):\n",
    "    \"\"\"\n",
    "    Starting Verb Extractor class\n",
    "    \n",
    "    This class, as in the course material, extracts the starting verb of a sentence\n",
    "    \"\"\"\n",
    "    def starting_verb(self, text):\n",
    "        # tokenize by sentences\n",
    "        sentence_list = nltk.sent_tokenize(text)\n",
    "        #attach POS tags to sentences \n",
    "        #try/except used because pos_tags[0] raises out of range exception although our data has no nulls)\n",
    "        for sentence in sentence_list:\n",
    "            pos_tags = nltk.pos_tag(tokenize(sentence))\n",
    "            try:\n",
    "                first_word, first_tag = pos_tags[0]\n",
    "                if first_tag in ['VB', 'VBP'] or first_word == 'RT':\n",
    "                    return True\n",
    "            except: pass\n",
    "        return False\n",
    "                       \n",
    "                \n",
    "    def fit(self, x, y=None):\n",
    "        return self\n",
    "\n",
    "    def transform(self, X):\n",
    "        X_tagged = pd.Series(X).apply(self.starting_verb)\n",
    "        return pd.DataFrame(X_tagged)\n",
    "\n",
    "    \n",
    "    \n",
    "pipeline_boost = Pipeline([\n",
    "        ('features', FeatureUnion([\n",
    "\n",
    "            ('text_pipeline', Pipeline([\n",
    "                ('vect', CountVectorizer(tokenizer=tokenize)),\n",
    "                ('tfidf', TfidfTransformer())\n",
    "            ])),\n",
    "\n",
    "            ('starting_verb', StartingVerbExtractor())\n",
    "        ])),\n",
    "\n",
    "        ('moclf', MultiOutputClassifier(AdaBoostClassifier()))\n",
    "    ])\n"
   ]
  },
  {
   "cell_type": "code",
   "execution_count": 28,
   "metadata": {},
   "outputs": [],
   "source": [
    "X2_train, X2_test, Y2_train, Y2_test = train_test_split(X, Y)"
   ]
  },
  {
   "cell_type": "code",
   "execution_count": 18,
   "metadata": {},
   "outputs": [
    {
     "data": {
      "text/plain": [
       "Pipeline(memory=None,\n",
       "     steps=[('features', FeatureUnion(n_jobs=1,\n",
       "       transformer_list=[('text_pipeline', Pipeline(memory=None,\n",
       "     steps=[('vect', CountVectorizer(analyzer='word', binary=False, decode_error='strict',\n",
       "        dtype=<class 'numpy.int64'>, encoding='utf-8', input='content',\n",
       "        lowercase=True, max_d...mator=None,\n",
       "          learning_rate=1.0, n_estimators=50, random_state=None),\n",
       "           n_jobs=1))])"
      ]
     },
     "execution_count": 18,
     "metadata": {},
     "output_type": "execute_result"
    }
   ],
   "source": [
    "pipeline_boost.fit(X2_train, Y2_train)"
   ]
  },
  {
   "cell_type": "code",
   "execution_count": 145,
   "metadata": {},
   "outputs": [
    {
     "name": "stdout",
     "output_type": "stream",
     "text": [
      "                        precision    recall  f1-score   support\n",
      "\n",
      "               related       0.80      0.98      0.88      5003\n",
      "               request       0.76      0.50      0.60      1118\n",
      "                 offer       0.00      0.00      0.00        34\n",
      "           aid_related       0.76      0.60      0.67      2708\n",
      "          medical_help       0.63      0.23      0.34       569\n",
      "      medical_products       0.70      0.32      0.44       347\n",
      "     search_and_rescue       0.57      0.15      0.23       192\n",
      "              security       0.47      0.05      0.10       130\n",
      "              military       0.64      0.33      0.44       202\n",
      "                 water       0.73      0.62      0.67       401\n",
      "                  food       0.82      0.65      0.72       729\n",
      "               shelter       0.78      0.54      0.64       574\n",
      "              clothing       0.64      0.33      0.44       109\n",
      "                 money       0.56      0.25      0.34       167\n",
      "        missing_people       0.38      0.11      0.17        71\n",
      "              refugees       0.57      0.24      0.33       217\n",
      "                 death       0.78      0.42      0.55       303\n",
      "             other_aid       0.49      0.12      0.19       843\n",
      "infrastructure_related       0.48      0.11      0.17       419\n",
      "             transport       0.61      0.20      0.30       295\n",
      "             buildings       0.66      0.37      0.47       308\n",
      "           electricity       0.56      0.24      0.34       141\n",
      "                 tools       0.17      0.02      0.04        45\n",
      "             hospitals       0.37      0.14      0.20        72\n",
      "                 shops       0.00      0.00      0.00        30\n",
      "           aid_centers       0.29      0.09      0.14        64\n",
      "  other_infrastructure       0.43      0.09      0.15       286\n",
      "       weather_related       0.86      0.64      0.74      1819\n",
      "                floods       0.86      0.56      0.67       545\n",
      "                 storm       0.77      0.47      0.59       612\n",
      "                  fire       0.43      0.13      0.20        75\n",
      "            earthquake       0.89      0.77      0.82       605\n",
      "                  cold       0.66      0.39      0.49       122\n",
      "         other_weather       0.44      0.15      0.22       328\n",
      "         direct_report       0.69      0.41      0.51      1237\n",
      "\n",
      "           avg / total       0.73      0.58      0.62     20720\n",
      "\n"
     ]
    }
   ],
   "source": [
    "Y2_pred = pipeline_boost.predict(X2_test)\n",
    "\n",
    "target_names = Y.columns\n",
    "print(classification_report(Y2_test, Y2_pred, target_names=target_names))"
   ]
  },
  {
   "cell_type": "code",
   "execution_count": 160,
   "metadata": {
    "scrolled": true
   },
   "outputs": [
    {
     "data": {
      "text/plain": [
       "{'memory': None, 'steps': [('features', FeatureUnion(n_jobs=1,\n",
       "          transformer_list=[('text_pipeline', Pipeline(memory=None,\n",
       "        steps=[('vect', CountVectorizer(analyzer='word', binary=False, decode_error='strict',\n",
       "           dtype=<class 'numpy.int64'>, encoding='utf-8', input='content',\n",
       "           lowercase=True, max_df=1.0, max_features=None, min_df=1,\n",
       "           ngram_... smooth_idf=True, sublinear_tf=False, use_idf=True))])), ('starting_verb', StartingVerbExtractor())],\n",
       "          transformer_weights=None)),\n",
       "  ('moclf',\n",
       "   MultiOutputClassifier(estimator=AdaBoostClassifier(algorithm='SAMME.R', base_estimator=None,\n",
       "             learning_rate=1.0, n_estimators=50, random_state=None),\n",
       "              n_jobs=1))], 'features': FeatureUnion(n_jobs=1,\n",
       "        transformer_list=[('text_pipeline', Pipeline(memory=None,\n",
       "      steps=[('vect', CountVectorizer(analyzer='word', binary=False, decode_error='strict',\n",
       "         dtype=<class 'numpy.int64'>, encoding='utf-8', input='content',\n",
       "         lowercase=True, max_df=1.0, max_features=None, min_df=1,\n",
       "         ngram_... smooth_idf=True, sublinear_tf=False, use_idf=True))])), ('starting_verb', StartingVerbExtractor())],\n",
       "        transformer_weights=None), 'moclf': MultiOutputClassifier(estimator=AdaBoostClassifier(algorithm='SAMME.R', base_estimator=None,\n",
       "           learning_rate=1.0, n_estimators=50, random_state=None),\n",
       "            n_jobs=1), 'features__n_jobs': 1, 'features__transformer_list': [('text_pipeline',\n",
       "   Pipeline(memory=None,\n",
       "        steps=[('vect', CountVectorizer(analyzer='word', binary=False, decode_error='strict',\n",
       "           dtype=<class 'numpy.int64'>, encoding='utf-8', input='content',\n",
       "           lowercase=True, max_df=1.0, max_features=None, min_df=1,\n",
       "           ngram_range=(1, 1), preprocessor=None, stop_words=None,\n",
       "           strip...y=None)), ('tfidf', TfidfTransformer(norm='l2', smooth_idf=True, sublinear_tf=False, use_idf=True))])),\n",
       "  ('starting_verb',\n",
       "   StartingVerbExtractor())], 'features__transformer_weights': None, 'features__text_pipeline': Pipeline(memory=None,\n",
       "      steps=[('vect', CountVectorizer(analyzer='word', binary=False, decode_error='strict',\n",
       "         dtype=<class 'numpy.int64'>, encoding='utf-8', input='content',\n",
       "         lowercase=True, max_df=1.0, max_features=None, min_df=1,\n",
       "         ngram_range=(1, 1), preprocessor=None, stop_words=None,\n",
       "         strip...y=None)), ('tfidf', TfidfTransformer(norm='l2', smooth_idf=True, sublinear_tf=False, use_idf=True))]), 'features__starting_verb': StartingVerbExtractor(), 'features__text_pipeline__memory': None, 'features__text_pipeline__steps': [('vect',\n",
       "   CountVectorizer(analyzer='word', binary=False, decode_error='strict',\n",
       "           dtype=<class 'numpy.int64'>, encoding='utf-8', input='content',\n",
       "           lowercase=True, max_df=1.0, max_features=None, min_df=1,\n",
       "           ngram_range=(1, 1), preprocessor=None, stop_words=None,\n",
       "           strip_accents=None, token_pattern='(?u)\\\\b\\\\w\\\\w+\\\\b',\n",
       "           tokenizer=<function tokenize at 0x7f13c19bbf28>, vocabulary=None)),\n",
       "  ('tfidf',\n",
       "   TfidfTransformer(norm='l2', smooth_idf=True, sublinear_tf=False, use_idf=True))], 'features__text_pipeline__vect': CountVectorizer(analyzer='word', binary=False, decode_error='strict',\n",
       "         dtype=<class 'numpy.int64'>, encoding='utf-8', input='content',\n",
       "         lowercase=True, max_df=1.0, max_features=None, min_df=1,\n",
       "         ngram_range=(1, 1), preprocessor=None, stop_words=None,\n",
       "         strip_accents=None, token_pattern='(?u)\\\\b\\\\w\\\\w+\\\\b',\n",
       "         tokenizer=<function tokenize at 0x7f13c19bbf28>, vocabulary=None), 'features__text_pipeline__tfidf': TfidfTransformer(norm='l2', smooth_idf=True, sublinear_tf=False, use_idf=True), 'features__text_pipeline__vect__analyzer': 'word', 'features__text_pipeline__vect__binary': False, 'features__text_pipeline__vect__decode_error': 'strict', 'features__text_pipeline__vect__dtype': numpy.int64, 'features__text_pipeline__vect__encoding': 'utf-8', 'features__text_pipeline__vect__input': 'content', 'features__text_pipeline__vect__lowercase': True, 'features__text_pipeline__vect__max_df': 1.0, 'features__text_pipeline__vect__max_features': None, 'features__text_pipeline__vect__min_df': 1, 'features__text_pipeline__vect__ngram_range': (1,\n",
       "  1), 'features__text_pipeline__vect__preprocessor': None, 'features__text_pipeline__vect__stop_words': None, 'features__text_pipeline__vect__strip_accents': None, 'features__text_pipeline__vect__token_pattern': '(?u)\\\\b\\\\w\\\\w+\\\\b', 'features__text_pipeline__vect__tokenizer': <function __main__.tokenize(text)>, 'features__text_pipeline__vect__vocabulary': None, 'features__text_pipeline__tfidf__norm': 'l2', 'features__text_pipeline__tfidf__smooth_idf': True, 'features__text_pipeline__tfidf__sublinear_tf': False, 'features__text_pipeline__tfidf__use_idf': True, 'moclf__estimator__algorithm': 'SAMME.R', 'moclf__estimator__base_estimator': None, 'moclf__estimator__learning_rate': 1.0, 'moclf__estimator__n_estimators': 50, 'moclf__estimator__random_state': None, 'moclf__estimator': AdaBoostClassifier(algorithm='SAMME.R', base_estimator=None,\n",
       "           learning_rate=1.0, n_estimators=50, random_state=None), 'moclf__n_jobs': 1}"
      ]
     },
     "execution_count": 160,
     "metadata": {},
     "output_type": "execute_result"
    }
   ],
   "source": [
    "pipeline_boost.get_params()"
   ]
  },
  {
   "cell_type": "code",
   "execution_count": 29,
   "metadata": {},
   "outputs": [],
   "source": [
    "parameters = {\n",
    "    'moclf__estimator__learning_rate' : [0.05,0.1,1],\n",
    "    'moclf__estimator__n_estimators': [50, 100]}\n",
    "    #'moclf__estimator__base_estimator':[AdaBoostClassifier(), GradientBoostingClassifier()],\n",
    "    #'moclf__estimator__algorithm': ['SAMME.R', 'SAMM']}\n",
    "\n",
    "cv2 = GridSearchCV(pipeline_boost, param_grid=parameters,verbose =2, n_jobs=-1) \n",
    "#verbose helped to see the progress of our grid search"
   ]
  },
  {
   "cell_type": "code",
   "execution_count": 30,
   "metadata": {},
   "outputs": [
    {
     "name": "stdout",
     "output_type": "stream",
     "text": [
      "Fitting 3 folds for each of 6 candidates, totalling 18 fits\n",
      "[CV] moclf__estimator__learning_rate=0.05, moclf__estimator__n_estimators=50 \n",
      "[CV]  moclf__estimator__learning_rate=0.05, moclf__estimator__n_estimators=50, total= 4.3min\n",
      "[CV] moclf__estimator__learning_rate=0.05, moclf__estimator__n_estimators=50 \n"
     ]
    },
    {
     "name": "stderr",
     "output_type": "stream",
     "text": [
      "[Parallel(n_jobs=-1)]: Done   1 out of   1 | elapsed:  6.6min remaining:    0.0s\n"
     ]
    },
    {
     "name": "stdout",
     "output_type": "stream",
     "text": [
      "[CV]  moclf__estimator__learning_rate=0.05, moclf__estimator__n_estimators=50, total= 4.3min\n",
      "[CV] moclf__estimator__learning_rate=0.05, moclf__estimator__n_estimators=50 \n",
      "[CV]  moclf__estimator__learning_rate=0.05, moclf__estimator__n_estimators=50, total= 4.3min\n",
      "[CV] moclf__estimator__learning_rate=0.05, moclf__estimator__n_estimators=100 \n",
      "[CV]  moclf__estimator__learning_rate=0.05, moclf__estimator__n_estimators=100, total= 5.4min\n",
      "[CV] moclf__estimator__learning_rate=0.05, moclf__estimator__n_estimators=100 \n",
      "[CV]  moclf__estimator__learning_rate=0.05, moclf__estimator__n_estimators=100, total= 5.4min\n",
      "[CV] moclf__estimator__learning_rate=0.05, moclf__estimator__n_estimators=100 \n",
      "[CV]  moclf__estimator__learning_rate=0.05, moclf__estimator__n_estimators=100, total= 5.4min\n",
      "[CV] moclf__estimator__learning_rate=0.1, moclf__estimator__n_estimators=50 \n",
      "[CV]  moclf__estimator__learning_rate=0.1, moclf__estimator__n_estimators=50, total= 4.3min\n",
      "[CV] moclf__estimator__learning_rate=0.1, moclf__estimator__n_estimators=50 \n",
      "[CV]  moclf__estimator__learning_rate=0.1, moclf__estimator__n_estimators=50, total= 4.4min\n",
      "[CV] moclf__estimator__learning_rate=0.1, moclf__estimator__n_estimators=50 \n",
      "[CV]  moclf__estimator__learning_rate=0.1, moclf__estimator__n_estimators=50, total= 4.3min\n",
      "[CV] moclf__estimator__learning_rate=0.1, moclf__estimator__n_estimators=100 \n",
      "[CV]  moclf__estimator__learning_rate=0.1, moclf__estimator__n_estimators=100, total= 5.4min\n",
      "[CV] moclf__estimator__learning_rate=0.1, moclf__estimator__n_estimators=100 \n",
      "[CV]  moclf__estimator__learning_rate=0.1, moclf__estimator__n_estimators=100, total= 5.3min\n",
      "[CV] moclf__estimator__learning_rate=0.1, moclf__estimator__n_estimators=100 \n",
      "[CV]  moclf__estimator__learning_rate=0.1, moclf__estimator__n_estimators=100, total= 5.3min\n",
      "[CV] moclf__estimator__learning_rate=1, moclf__estimator__n_estimators=50 \n",
      "[CV]  moclf__estimator__learning_rate=1, moclf__estimator__n_estimators=50, total= 4.3min\n",
      "[CV] moclf__estimator__learning_rate=1, moclf__estimator__n_estimators=50 \n",
      "[CV]  moclf__estimator__learning_rate=1, moclf__estimator__n_estimators=50, total= 4.3min\n",
      "[CV] moclf__estimator__learning_rate=1, moclf__estimator__n_estimators=50 \n",
      "[CV]  moclf__estimator__learning_rate=1, moclf__estimator__n_estimators=50, total= 4.3min\n",
      "[CV] moclf__estimator__learning_rate=1, moclf__estimator__n_estimators=100 \n",
      "[CV]  moclf__estimator__learning_rate=1, moclf__estimator__n_estimators=100, total= 5.4min\n",
      "[CV] moclf__estimator__learning_rate=1, moclf__estimator__n_estimators=100 \n",
      "[CV]  moclf__estimator__learning_rate=1, moclf__estimator__n_estimators=100, total= 5.4min\n",
      "[CV] moclf__estimator__learning_rate=1, moclf__estimator__n_estimators=100 \n",
      "[CV]  moclf__estimator__learning_rate=1, moclf__estimator__n_estimators=100, total= 5.4min\n"
     ]
    },
    {
     "name": "stderr",
     "output_type": "stream",
     "text": [
      "[Parallel(n_jobs=-1)]: Done  18 out of  18 | elapsed: 128.6min finished\n"
     ]
    },
    {
     "data": {
      "text/plain": [
       "GridSearchCV(cv=None, error_score='raise',\n",
       "       estimator=Pipeline(memory=None,\n",
       "     steps=[('features', FeatureUnion(n_jobs=1,\n",
       "       transformer_list=[('text_pipeline', Pipeline(memory=None,\n",
       "     steps=[('vect', CountVectorizer(analyzer='word', binary=False, decode_error='strict',\n",
       "        dtype=<class 'numpy.int64'>, encoding='utf-8', input='content',\n",
       "        lowercase=True, max_d...mator=None,\n",
       "          learning_rate=1.0, n_estimators=50, random_state=None),\n",
       "           n_jobs=1))]),\n",
       "       fit_params=None, iid=True, n_jobs=-1,\n",
       "       param_grid={'moclf__estimator__learning_rate': [0.05, 0.1, 1], 'moclf__estimator__n_estimators': [50, 100]},\n",
       "       pre_dispatch='2*n_jobs', refit=True, return_train_score='warn',\n",
       "       scoring=None, verbose=2)"
      ]
     },
     "execution_count": 30,
     "metadata": {},
     "output_type": "execute_result"
    }
   ],
   "source": [
    "cv2.fit(X2_train, Y2_train)"
   ]
  },
  {
   "cell_type": "code",
   "execution_count": 39,
   "metadata": {},
   "outputs": [
    {
     "data": {
      "text/plain": [
       "{'moclf__estimator__learning_rate': 1, 'moclf__estimator__n_estimators': 100}"
      ]
     },
     "execution_count": 39,
     "metadata": {},
     "output_type": "execute_result"
    }
   ],
   "source": [
    "cv2.best_params_"
   ]
  },
  {
   "cell_type": "markdown",
   "metadata": {},
   "source": [
    "### 9. Export your model as a pickle file"
   ]
  },
  {
   "cell_type": "code",
   "execution_count": 35,
   "metadata": {},
   "outputs": [],
   "source": [
    "pickle.dump(cv2, open('classifier.pkl', 'wb'))"
   ]
  },
  {
   "cell_type": "markdown",
   "metadata": {},
   "source": [
    "##### Testing performance of our final model:"
   ]
  },
  {
   "cell_type": "code",
   "execution_count": 37,
   "metadata": {},
   "outputs": [],
   "source": [
    "loaded_model = pickle.load(open('classifier.pkl', 'rb'))\n",
    "#count_vect = pickle.load(open('count_vect', 'rb'))\n",
    "result = loaded_model.predict(X2_test)"
   ]
  },
  {
   "cell_type": "code",
   "execution_count": 42,
   "metadata": {},
   "outputs": [
    {
     "name": "stdout",
     "output_type": "stream",
     "text": [
      "                        precision    recall  f1-score   support\n",
      "\n",
      "               related       0.81      0.95      0.87      4983\n",
      "               request       0.73      0.54      0.62      1103\n",
      "                 offer       0.00      0.00      0.00        28\n",
      "           aid_related       0.77      0.63      0.69      2756\n",
      "          medical_help       0.56      0.24      0.34       515\n",
      "      medical_products       0.59      0.32      0.42       321\n",
      "     search_and_rescue       0.56      0.20      0.29       203\n",
      "              security       0.22      0.03      0.06       116\n",
      "              military       0.59      0.35      0.44       226\n",
      "                 water       0.71      0.67      0.69       424\n",
      "                  food       0.80      0.67      0.73       749\n",
      "               shelter       0.73      0.52      0.61       578\n",
      "              clothing       0.66      0.43      0.52       101\n",
      "                 money       0.54      0.24      0.33       160\n",
      "        missing_people       0.45      0.17      0.25        76\n",
      "              refugees       0.49      0.26      0.34       224\n",
      "                 death       0.76      0.50      0.60       324\n",
      "             other_aid       0.49      0.16      0.24       844\n",
      "infrastructure_related       0.40      0.11      0.17       430\n",
      "             transport       0.50      0.21      0.30       315\n",
      "             buildings       0.64      0.38      0.47       330\n",
      "           electricity       0.51      0.31      0.39       124\n",
      "                 tools       0.27      0.07      0.11        46\n",
      "             hospitals       0.30      0.14      0.19        72\n",
      "                 shops       0.00      0.00      0.00        34\n",
      "           aid_centers       0.19      0.03      0.05        94\n",
      "  other_infrastructure       0.30      0.11      0.16       275\n",
      "       weather_related       0.85      0.68      0.76      1864\n",
      "                floods       0.83      0.53      0.64       558\n",
      "                 storm       0.74      0.51      0.61       609\n",
      "                  fire       0.50      0.29      0.37        68\n",
      "            earthquake       0.87      0.78      0.83       636\n",
      "                  cold       0.67      0.41      0.51       137\n",
      "         other_weather       0.46      0.18      0.26       367\n",
      "         direct_report       0.70      0.44      0.54      1241\n",
      "\n",
      "           avg / total       0.71      0.59      0.63     20931\n",
      "\n"
     ]
    }
   ],
   "source": [
    "target_names = Y.columns\n",
    "print(classification_report(Y2_test, result, target_names=target_names))"
   ]
  },
  {
   "cell_type": "markdown",
   "metadata": {},
   "source": [
    "### 10. Use this notebook to complete `train.py`\n",
    "Use the template file attached in the Resources folder to write a script that runs the steps above to create a database and export a model based on a new dataset specified by the user."
   ]
  },
  {
   "cell_type": "code",
   "execution_count": null,
   "metadata": {},
   "outputs": [],
   "source": []
  }
 ],
 "metadata": {
  "kernelspec": {
   "display_name": "Python 3",
   "language": "python",
   "name": "python3"
  },
  "language_info": {
   "codemirror_mode": {
    "name": "ipython",
    "version": 3
   },
   "file_extension": ".py",
   "mimetype": "text/x-python",
   "name": "python",
   "nbconvert_exporter": "python",
   "pygments_lexer": "ipython3",
   "version": "3.6.3"
  }
 },
 "nbformat": 4,
 "nbformat_minor": 2
}
